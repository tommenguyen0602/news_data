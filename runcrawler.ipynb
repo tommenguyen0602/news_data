{
 "cells": [
  {
   "cell_type": "code",
   "execution_count": 17,
   "metadata": {},
   "outputs": [],
   "source": [
    "from bs4 import BeautifulSoup\n",
    "import csv\n",
    "# Specify the path to your HTML file\n",
    "html_file_path = 'content1.html'\n",
    "\n",
    "try:\n",
    "    # Open the HTML file\n",
    "    with open(html_file_path,'r', encoding='utf-8') as file:\n",
    "        html_content = file.read()\n",
    "\n",
    "    # Parse the HTML content\n",
    "    soup = BeautifulSoup(html_content, 'html.parser')\n",
    "\n",
    "    # Find all <a> tags with class \"box-category-link-title\" and extract their titles and URLs\n",
    "    links = soup.find_all('a', class_='box-category-link-title')\n",
    "    with open('output.csv','w', encoding='utf-8',newline='') as outputfile:\n",
    "        csv_writer = csv.writer(outputfile)\n",
    "        csv_writer.writerow(['Title', 'URL'])\n",
    "        for link in links:\n",
    "            \n",
    "            title = link.get('title')\n",
    "            url = link.get('href')\n",
    "            \n",
    "            csv_writer.writerow([title, url])\n",
    "\n",
    "except FileNotFoundError:\n",
    "    print(f\"File not found: {html_file_path}\")\n",
    "except Exception as e:\n",
    "    print(f\"An error occurred: {e}\")\n"
   ]
  }
 ],
 "metadata": {
  "kernelspec": {
   "display_name": "Python 3",
   "language": "python",
   "name": "python3"
  },
  "language_info": {
   "codemirror_mode": {
    "name": "ipython",
    "version": 3
   },
   "file_extension": ".py",
   "mimetype": "text/x-python",
   "name": "python",
   "nbconvert_exporter": "python",
   "pygments_lexer": "ipython3",
   "version": "3.11.4"
  },
  "orig_nbformat": 4
 },
 "nbformat": 4,
 "nbformat_minor": 2
}
