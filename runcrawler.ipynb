{
 "cells": [
  {
   "cell_type": "code",
   "execution_count": 2,
   "metadata": {},
   "outputs": [],
   "source": [
    "import re\n",
    "from dateutil import parser\n",
    "from datetime import datetime\n",
    "def dateval(link):\n",
    "# Extract the 8-digit date using a regular expression\n",
    "    date_pattern = r'(\\d{8})\\d{9}\\.htm$'\n",
    "    match = re.search(date_pattern, link)\n",
    "\n",
    "    if match:\n",
    "        extracted_date = match.group(1)\n",
    "        print(\"Extracted Date:\", extracted_date)\n",
    "    else:\n",
    "        print(\"Date not found in the link.\")\n",
    "    try:\n",
    "        # Parse the cleaned time string using dateutil.parser\n",
    "        parsed_time = parser.parse(extracted_date)\n",
    "\n",
    "        # Extract the date component\n",
    "        date_only = parsed_time.date()\n",
    "    except ValueError:\n",
    "        print(\"Invalid time format. of: \\n\")\n",
    "    if(date_only.year <2020):\n",
    "        return False\n",
    "    return True\n"
   ]
  },
  {
   "cell_type": "code",
   "execution_count": 6,
   "metadata": {},
   "outputs": [
    {
     "name": "stdout",
     "output_type": "stream",
     "text": [
      "Extracted Date: 20110305\n",
      "True\n"
     ]
    }
   ],
   "source": [
    "print(dateval(\"/cap-phep-nhan-chim-143-trieu-met-khoi-bun-ngoai-khoi-vung-tau-20110305172357818.htm\"))"
   ]
  }
 ],
 "metadata": {
  "kernelspec": {
   "display_name": "Python 3",
   "language": "python",
   "name": "python3"
  },
  "language_info": {
   "codemirror_mode": {
    "name": "ipython",
    "version": 3
   },
   "file_extension": ".py",
   "mimetype": "text/x-python",
   "name": "python",
   "nbconvert_exporter": "python",
   "pygments_lexer": "ipython3",
   "version": "3.11.4"
  },
  "orig_nbformat": 4
 },
 "nbformat": 4,
 "nbformat_minor": 2
}
