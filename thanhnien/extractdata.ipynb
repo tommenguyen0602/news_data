{
 "cells": [
  {
   "cell_type": "code",
   "execution_count": 44,
   "metadata": {},
   "outputs": [],
   "source": [
    "import pandas as pd\n",
    "from bs4 import BeautifulSoup\n",
    "import requests\n",
    "import re\n",
    "import csv\n",
    "from dateutil import parser\n",
    "\n",
    "pd.set_option(\"display.max_colwidth\", None)"
   ]
  },
  {
   "cell_type": "code",
   "execution_count": 45,
   "metadata": {},
   "outputs": [
    {
     "data": {
      "text/plain": [
       "40"
      ]
     },
     "execution_count": 45,
     "metadata": {},
     "output_type": "execute_result"
    }
   ],
   "source": [
    "df=pd.read_csv('thanhnien_chuyendoiso.csv')\n",
    "keyword_lookup = 'Chuyển đổi số'\n",
    "\n",
    "csv_file = open('outputcsvtest.csv', 'w', newline='',encoding='utf-8')\n",
    "writer = csv.writer(csv_file)\n",
    "writer.writerow(['Title', 'URL','Publish Date', 'Mentioned Times'])\n",
    "   \n",
    "\n",
    "\n",
    "    \n",
    "    "
   ]
  },
  {
   "cell_type": "code",
   "execution_count": 46,
   "metadata": {},
   "outputs": [
    {
     "name": "stdout",
     "output_type": "stream",
     "text": [
      "Extracted Date: 2023-09-18\n",
      "Extracted Date: 2023-09-17\n",
      "Extracted Date: 2023-09-16\n",
      "Extracted Date: 2023-09-16\n"
     ]
    },
    {
     "ename": "AttributeError",
     "evalue": "'NoneType' object has no attribute 'get_text'",
     "output_type": "error",
     "traceback": [
      "\u001b[1;31m---------------------------------------------------------------------------\u001b[0m",
      "\u001b[1;31mAttributeError\u001b[0m                            Traceback (most recent call last)",
      "\u001b[1;32mg:\\My Drive\\news crawler\\news_data\\thanhnien\\extractdata.ipynb Cell 3\u001b[0m line \u001b[0;36m1\n\u001b[0;32m      <a href='vscode-notebook-cell:/g%3A/My%20Drive/news%20crawler/news_data/thanhnien/extractdata.ipynb#W2sZmlsZQ%3D%3D?line=5'>6</a>\u001b[0m soup\u001b[39m=\u001b[39mBeautifulSoup(response\u001b[39m.\u001b[39mcontent,\u001b[39m'\u001b[39m\u001b[39mhtml.parser\u001b[39m\u001b[39m'\u001b[39m)\n\u001b[0;32m      <a href='vscode-notebook-cell:/g%3A/My%20Drive/news%20crawler/news_data/thanhnien/extractdata.ipynb#W2sZmlsZQ%3D%3D?line=7'>8</a>\u001b[0m publish_date \u001b[39m=\u001b[39m soup\u001b[39m.\u001b[39mfind(\u001b[39m'\u001b[39m\u001b[39mdiv\u001b[39m\u001b[39m'\u001b[39m,{\u001b[39m'\u001b[39m\u001b[39mdata-role\u001b[39m\u001b[39m'\u001b[39m: \u001b[39m'\u001b[39m\u001b[39mpublishdate\u001b[39m\u001b[39m'\u001b[39m})\u001b[39m.\u001b[39mget_text()\n\u001b[1;32m---> <a href='vscode-notebook-cell:/g%3A/My%20Drive/news%20crawler/news_data/thanhnien/extractdata.ipynb#W2sZmlsZQ%3D%3D?line=9'>10</a>\u001b[0m news_content \u001b[39m=\u001b[39m soup\u001b[39m.\u001b[39;49mfind(\u001b[39m'\u001b[39;49m\u001b[39mdiv\u001b[39;49m\u001b[39m'\u001b[39;49m,class_\u001b[39m=\u001b[39;49m\u001b[39m'\u001b[39;49m\u001b[39mdetail__cmain-main\u001b[39;49m\u001b[39m'\u001b[39;49m)\u001b[39m.\u001b[39;49mget_text()\n\u001b[0;32m     <a href='vscode-notebook-cell:/g%3A/My%20Drive/news%20crawler/news_data/thanhnien/extractdata.ipynb#W2sZmlsZQ%3D%3D?line=10'>11</a>\u001b[0m nofm \u001b[39m=\u001b[39m news_content\u001b[39m.\u001b[39mlower()\u001b[39m.\u001b[39mcount(keyword_lookup\u001b[39m.\u001b[39mlower())\n\u001b[0;32m     <a href='vscode-notebook-cell:/g%3A/My%20Drive/news%20crawler/news_data/thanhnien/extractdata.ipynb#W2sZmlsZQ%3D%3D?line=11'>12</a>\u001b[0m publish_date\u001b[39m=\u001b[39mpublish_date\u001b[39m.\u001b[39mreplace(\u001b[39m'\u001b[39m\u001b[39m\\n\u001b[39;00m\u001b[39m'\u001b[39m, \u001b[39m'\u001b[39m\u001b[39m \u001b[39m\u001b[39m'\u001b[39m)\u001b[39m.\u001b[39mreplace(\u001b[39m'\u001b[39m\u001b[39m\\t\u001b[39;00m\u001b[39m'\u001b[39m, \u001b[39m'\u001b[39m\u001b[39m \u001b[39m\u001b[39m'\u001b[39m)\n",
      "\u001b[1;31mAttributeError\u001b[0m: 'NoneType' object has no attribute 'get_text'"
     ]
    }
   ],
   "source": [
    "for index, row in df.iloc[0:10].iterrows():\n",
    "    title = row['Title']\n",
    "    url = row['URL']\n",
    "    news_url = 'https://thanhnien.vn'+url\n",
    "    response = requests.get(news_url)\n",
    "    soup=BeautifulSoup(response.content,'html.parser')\n",
    "    \n",
    "    publish_date = soup.find('div',{'data-role': 'publishdate'}).get_text()\n",
    "\n",
    "\n",
    "    try:\n",
    "        news_content = soup.find('div',class_='detail__cmain-main').get_text()\n",
    "        nofm = news_content.lower().count(keyword_lookup.lower())\n",
    "    except  AttributeError:\n",
    "        print('Cant target news content')\n",
    "\n",
    "    publish_date=publish_date.replace('\\n', ' ').replace('\\t', ' ')\n",
    "    cleaned_publish_date = publish_date.strip()\n",
    "    try:\n",
    "        # Parse the cleaned time string using dateutil.parser\n",
    "        parsed_time = parser.parse(cleaned_publish_date)\n",
    "        \n",
    "        # Extract the date component\n",
    "        date_only = parsed_time.date()\n",
    "        \n",
    "        print(\"Extracted Date:\", date_only)\n",
    "    except ValueError:\n",
    "        print(\"Invalid time format.\")\n",
    "\n",
    "    writer.writerow([title, url,date_only,nofm])\n",
    "csv_file.close()"
   ]
  },
  {
   "cell_type": "code",
   "execution_count": null,
   "metadata": {},
   "outputs": [],
   "source": []
  }
 ],
 "metadata": {
  "kernelspec": {
   "display_name": "Python 3",
   "language": "python",
   "name": "python3"
  },
  "language_info": {
   "codemirror_mode": {
    "name": "ipython",
    "version": 3
   },
   "file_extension": ".py",
   "mimetype": "text/x-python",
   "name": "python",
   "nbconvert_exporter": "python",
   "pygments_lexer": "ipython3",
   "version": "3.11.4"
  },
  "orig_nbformat": 4
 },
 "nbformat": 4,
 "nbformat_minor": 2
}
