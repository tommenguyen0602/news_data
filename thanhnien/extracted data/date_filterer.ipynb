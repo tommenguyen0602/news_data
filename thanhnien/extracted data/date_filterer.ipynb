{
 "cells": [
  {
   "cell_type": "code",
   "execution_count": 7,
   "metadata": {},
   "outputs": [],
   "source": [
    "import requests\n",
    "import json\n",
    "import csv\n",
    "from dateutil import parser\n",
    "import pandas as pd\n",
    "\n",
    "pd.set_option(\"display.max_colwidth\", None)"
   ]
  },
  {
   "cell_type": "code",
   "execution_count": 8,
   "metadata": {},
   "outputs": [],
   "source": [
    "keywords_s = [\n",
    "    \"chuyển đổi số\",\"nền tảng số\",\n",
    "    \"số hóa\",\"xã hội số\",\"chính phủ số\",\"tài nguyên số\",\n",
    "    \"dịch vụ số\",\"số hóa dữ liệu\",\"số hóa quy trình\",\n",
    "    \"doanh nghiệp số\", \"nguồn nhân lực\",\"nhân lực số\",\"trải nghiệm số\",\n",
    "    \"ngân hàng số\",\"giải trí số\",\"giáo dục số\",\"công nghệ số\",\"kinh doanh số\",\n",
    "    \"thị trường số\",\"AI\",\"trí tuệ nhân tạo\"\n",
    "]\n",
    "\n",
    "def filterer(trangchu,keyword):\n",
    "    filename = str(trangchu) + \"_\" + str(keyword) + \"_extracted.csv\"\n",
    "    df = pd.read_csv(filename)\n",
    "    df['Publish Date'] = pd.to_datetime(df['Publish Date'])\n",
    "    filtered_df = df[(df['Publish Date'] >= '2020-01-01') & (df['Publish Date'] <= '2022-12-31')]\n",
    "    filtered_df.to_csv(filename,index=False)\n",
    "for keyword in keywords_s:\n",
    "    filterer(trangchu=\"thanhnien\",keyword=keyword)"
   ]
  },
  {
   "cell_type": "code",
   "execution_count": 10,
   "metadata": {},
   "outputs": [
    {
     "name": "stdout",
     "output_type": "stream",
     "text": [
      "True\n"
     ]
    }
   ],
   "source": [
    "#check \n",
    "#df1 = pd.read_csv('thanhnien_số hóa_extracted auto.csv')\n",
    "#df2 = pd.read_csv('thanhnien_số hóa_extracted manual.csv')\n",
    "#print(df1.equals(df2))"
   ]
  }
 ],
 "metadata": {
  "kernelspec": {
   "display_name": "Python 3",
   "language": "python",
   "name": "python3"
  },
  "language_info": {
   "codemirror_mode": {
    "name": "ipython",
    "version": 3
   },
   "file_extension": ".py",
   "mimetype": "text/x-python",
   "name": "python",
   "nbconvert_exporter": "python",
   "pygments_lexer": "ipython3",
   "version": "3.11.4"
  },
  "orig_nbformat": 4
 },
 "nbformat": 4,
 "nbformat_minor": 2
}
