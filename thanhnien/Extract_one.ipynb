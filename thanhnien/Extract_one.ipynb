{
 "cells": [
  {
   "cell_type": "code",
   "execution_count": 26,
   "metadata": {},
   "outputs": [],
   "source": [
    "import pandas as pd\n",
    "from bs4 import BeautifulSoup\n",
    "import requests\n",
    "import re\n",
    "import csv\n",
    "from dateutil import parser\n",
    "\n",
    "pd.set_option(\"display.max_colwidth\", None)"
   ]
  },
  {
   "cell_type": "code",
   "execution_count": 27,
   "metadata": {},
   "outputs": [
    {
     "data": {
      "text/plain": [
       "51"
      ]
     },
     "execution_count": 27,
     "metadata": {},
     "output_type": "execute_result"
    }
   ],
   "source": [
    "df=pd.read_csv('thanhnien_chuyendoiso.csv')\n",
    "keyword_lookup = 'Chuyển đổi số'\n",
    "\n",
    "csv_file = open('Extract_one.csv', 'w', newline='',encoding='utf-8')\n",
    "writer = csv.writer(csv_file)\n",
    "writer.writerow(['Title', 'URL','Publish Date', 'Mentioned Times','Word Count'])"
   ]
  },
  {
   "cell_type": "code",
   "execution_count": 28,
   "metadata": {},
   "outputs": [
    {
     "name": "stdout",
     "output_type": "stream",
     "text": [
      "Cant target news content of: \n",
      "https://thanhnien.vn/truong-dh-nguyen-tat-thanh-ket-noi-truong-dai-hoc-nuoc-ngoai-to-chuc-hoi-thao-fintech-va-blockchain-185230622172540582.htm\n",
      "Target cmain instead successfully \n",
      "Cant target news content of: \n",
      "https://thanhnien.vn/van-de-giai-phap-chuyen-doi-so-co-phai-la-chia-khoa-vang-185230619191411621.htm\n",
      "Target cmain instead successfully \n"
     ]
    }
   ],
   "source": [
    "for index, row in df.iloc[0:].iterrows():\n",
    "    title = row['Title']\n",
    "    url = row['URL']\n",
    "    news_url = 'https://thanhnien.vn'+url\n",
    "    response = requests.get(news_url)\n",
    "    if response.status_code == 403:\n",
    "      break\n",
    "\n",
    "\n",
    "    soup=BeautifulSoup(response.content,'html.parser')\n",
    "    try: \n",
    "        publish_date = soup.find('div',{'data-role': 'publishdate'}).get_text()\n",
    "        publish_date=publish_date.replace('\\n', ' ').replace('\\t', ' ')\n",
    "        cleaned_publish_date = publish_date.strip()\n",
    "    except AttributeError:\n",
    "        print('Could not get date of publication of: \\n')\n",
    "\n",
    "    try:\n",
    "        news_content = soup.find('div',class_='detail__main').get_text()\n",
    "        nofm = news_content.lower().count(keyword_lookup.lower())\n",
    "        nofw = len(news_content.lower().split())\n",
    "    except  AttributeError:\n",
    "        print('Cant target news content of: \\n' + str(news_url))\n",
    "        try:\n",
    "            \n",
    "            news_content = soup.find('div',class_='detail__cmain').get_text()\n",
    "            nofm = news_content.lower().count(keyword_lookup.lower())\n",
    "            nofw = len(news_content.lower().split())\n",
    "            print('Target cmain instead successfully ')\n",
    "        except:\n",
    "            print('Cant target news content cmain of: \\n' + str(news_url))\n",
    "\n",
    "    try:\n",
    "        # Parse the cleaned time string using dateutil.parser\n",
    "        parsed_time = parser.parse(cleaned_publish_date)\n",
    "        \n",
    "        # Extract the date component\n",
    "        date_only = parsed_time.date()\n",
    "    except ValueError:\n",
    "        print(\"Invalid time format. of: \\n\" + str(news_url))\n",
    "\n",
    "    writer.writerow([title, url,date_only,nofm,nofw])\n",
    "csv_file.close()"
   ]
  }
 ],
 "metadata": {
  "kernelspec": {
   "display_name": "Python 3",
   "language": "python",
   "name": "python3"
  },
  "language_info": {
   "codemirror_mode": {
    "name": "ipython",
    "version": 3
   },
   "file_extension": ".py",
   "mimetype": "text/x-python",
   "name": "python",
   "nbconvert_exporter": "python",
   "pygments_lexer": "ipython3",
   "version": "3.11.4"
  },
  "orig_nbformat": 4
 },
 "nbformat": 4,
 "nbformat_minor": 2
}
