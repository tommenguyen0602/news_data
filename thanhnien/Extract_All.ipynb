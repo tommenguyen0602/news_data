{
 "cells": [
  {
   "cell_type": "code",
   "execution_count": 150,
   "metadata": {},
   "outputs": [],
   "source": [
    "import pandas as pd\n",
    "from bs4 import BeautifulSoup\n",
    "import requests\n",
    "import re\n",
    "import csv\n",
    "from dateutil import parser\n",
    "\n",
    "pd.set_option(\"display.max_colwidth\", None)"
   ]
  },
  {
   "cell_type": "code",
   "execution_count": 151,
   "metadata": {},
   "outputs": [
    {
     "data": {
      "text/plain": [
       "40"
      ]
     },
     "execution_count": 151,
     "metadata": {},
     "output_type": "execute_result"
    }
   ],
   "source": [
    "df=pd.read_csv('thanhnien_chuyendoiso.csv')\n",
    "keyword_lookup = 'Chuyển đổi số'\n",
    "\n",
    "csv_file = open('outputcsvtest.csv', 'w', newline='',encoding='utf-8')\n",
    "writer = csv.writer(csv_file)\n",
    "writer.writerow(['Title', 'URL','Publish Date', 'Mentioned Times'])"
   ]
  },
  {
   "cell_type": "code",
   "execution_count": 152,
   "metadata": {},
   "outputs": [
    {
     "name": "stdout",
     "output_type": "stream",
     "text": [
      "Cant target news content 2\n",
      "Extracted Date: 2023-06-15\n"
     ]
    }
   ],
   "source": [
    "for index, row in df.iloc[110:].iterrows():\n",
    "    title = row['Title']\n",
    "    url = row['URL']\n",
    "    news_url = 'https://thanhnien.vn'+url\n",
    "    response = requests.get(news_url)\n",
    "    if response.status_code == 403:\n",
    "      break\n",
    "\n",
    "\n",
    "    soup=BeautifulSoup(response.content,'html.parser')\n",
    "    try: \n",
    "        publish_date = soup.find('div',{'data-role': 'publishdate'}).get_text()\n",
    "    except AttributeError:\n",
    "        print('Could not get date of publication')\n",
    "\n",
    "\n",
    "    try:\n",
    "        news_content = soup.find('div',class_='detail__cmain-main').prettify()\n",
    "        nofm = news_content.lower().count(keyword_lookup.lower())\n",
    "    except  AttributeError:\n",
    "        print('Cant target news content')\n",
    "    try:\n",
    "        news_content = soup.find('div',class_='detail__cmain').prettify()\n",
    "        nofm = news_content.lower().count(keyword_lookup.lower())\n",
    "    except AttributeError:\n",
    "        print('Cant target news content 1')\n",
    "    \n",
    "    try:\n",
    "        news_content = soup.find('div',class_='detail__image-main').prettify()\n",
    "        nofm = news_content.lower().count(keyword_lookup.lower())\n",
    "    except AttributeError:\n",
    "        print('Cant target news content 2')\n",
    "\n",
    "\n",
    "    \n",
    "    publish_date=publish_date.replace('\\n', ' ').replace('\\t', ' ')\n",
    "    cleaned_publish_date = publish_date.strip()\n",
    "    try:\n",
    "        # Parse the cleaned time string using dateutil.parser\n",
    "        parsed_time = parser.parse(cleaned_publish_date)\n",
    "        \n",
    "        # Extract the date component\n",
    "        date_only = parsed_time.date()\n",
    "        \n",
    "        print(\"Extracted Date:\", date_only)\n",
    "    except ValueError:\n",
    "        print(\"Invalid time format.\")\n",
    "\n",
    "    writer.writerow([title, url,date_only,nofm])\n",
    "csv_file.close()"
   ]
  },
  {
   "cell_type": "code",
   "execution_count": null,
   "metadata": {},
   "outputs": [],
   "source": []
  }
 ],
 "metadata": {
  "kernelspec": {
   "display_name": "Python 3",
   "language": "python",
   "name": "python3"
  },
  "language_info": {
   "codemirror_mode": {
    "name": "ipython",
    "version": 3
   },
   "file_extension": ".py",
   "mimetype": "text/x-python",
   "name": "python",
   "nbconvert_exporter": "python",
   "pygments_lexer": "ipython3",
   "version": "3.11.4"
  },
  "orig_nbformat": 4
 },
 "nbformat": 4,
 "nbformat_minor": 2
}
