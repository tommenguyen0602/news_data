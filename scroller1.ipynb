{
 "cells": [
  {
   "cell_type": "code",
   "execution_count": 3,
   "metadata": {},
   "outputs": [],
   "source": [
    "from selenium import webdriver\n",
    "from selenium.webdriver.common.by import By\n",
    "from selenium.webdriver.common.keys import Keys\n",
    "from selenium.webdriver.support.ui import WebDriverWait\n",
    "from selenium.webdriver.support import expected_conditions as EC\n",
    "from urllib.parse import quote\n",
    "from selenium.webdriver.chrome.service import Service\n",
    "import time\n",
    "from selenium.common.exceptions import ElementNotInteractableException\n",
    "from selenium.common.exceptions import ElementClickInterceptedException\n",
    "from bs4 import BeautifulSoup\n",
    "import csv"
   ]
  },
  {
   "cell_type": "code",
   "execution_count": 5,
   "metadata": {},
   "outputs": [
    {
     "ename": "NoSuchElementException",
     "evalue": "Message: no such element: Unable to locate element: {\"method\":\"css selector\",\"selector\":\".btn-timeline-more mt-5 control__loadmore\"}\n  (Session info: chrome=116.0.5845.188); For documentation on this error, please visit: https://www.selenium.dev/documentation/webdriver/troubleshooting/errors#no-such-element-exception\nStacktrace:\n\tGetHandleVerifier [0x00007FF79B1952A2+57122]\n\t(No symbol) [0x00007FF79B10EA92]\n\t(No symbol) [0x00007FF79AFDE3AB]\n\t(No symbol) [0x00007FF79B017D3E]\n\t(No symbol) [0x00007FF79B017E2C]\n\t(No symbol) [0x00007FF79B050B67]\n\t(No symbol) [0x00007FF79B03701F]\n\t(No symbol) [0x00007FF79B04EB82]\n\t(No symbol) [0x00007FF79B036DB3]\n\t(No symbol) [0x00007FF79B00D2B1]\n\t(No symbol) [0x00007FF79B00E494]\n\tGetHandleVerifier [0x00007FF79B43EF82+2849794]\n\tGetHandleVerifier [0x00007FF79B491D24+3189156]\n\tGetHandleVerifier [0x00007FF79B48ACAF+3160367]\n\tGetHandleVerifier [0x00007FF79B226D06+653702]\n\t(No symbol) [0x00007FF79B11A208]\n\t(No symbol) [0x00007FF79B1162C4]\n\t(No symbol) [0x00007FF79B1163F6]\n\t(No symbol) [0x00007FF79B1067A3]\n\tBaseThreadInitThunk [0x00007FFA6141257D+29]\n\tRtlUserThreadStart [0x00007FFA6216AA68+40]\n",
     "output_type": "error",
     "traceback": [
      "\u001b[1;31m---------------------------------------------------------------------------\u001b[0m",
      "\u001b[1;31mNoSuchElementException\u001b[0m                    Traceback (most recent call last)",
      "\u001b[1;32mg:\\My Drive\\news crawler\\news_data\\scroller1.ipynb Cell 2\u001b[0m line \u001b[0;36m1\n\u001b[0;32m     <a href='vscode-notebook-cell:/g%3A/My%20Drive/news%20crawler/news_data/scroller1.ipynb#W1sZmlsZQ%3D%3D?line=14'>15</a>\u001b[0m driver\u001b[39m.\u001b[39mexecute_script(\u001b[39m\"\u001b[39m\u001b[39mwindow.scrollTo(0, document.body.scrollHeight);\u001b[39m\u001b[39m\"\u001b[39m)\n\u001b[0;32m     <a href='vscode-notebook-cell:/g%3A/My%20Drive/news%20crawler/news_data/scroller1.ipynb#W1sZmlsZQ%3D%3D?line=17'>18</a>\u001b[0m \u001b[39mtry\u001b[39;00m:\n\u001b[1;32m---> <a href='vscode-notebook-cell:/g%3A/My%20Drive/news%20crawler/news_data/scroller1.ipynb#W1sZmlsZQ%3D%3D?line=18'>19</a>\u001b[0m     view_more_link \u001b[39m=\u001b[39m driver\u001b[39m.\u001b[39;49mfind_element(By\u001b[39m.\u001b[39;49mCLASS_NAME,\u001b[39m\"\u001b[39;49m\u001b[39mbtn-timeline-more mt-5 control__loadmore\u001b[39;49m\u001b[39m\"\u001b[39;49m)\n\u001b[0;32m     <a href='vscode-notebook-cell:/g%3A/My%20Drive/news%20crawler/news_data/scroller1.ipynb#W1sZmlsZQ%3D%3D?line=19'>20</a>\u001b[0m     view_more_link\u001b[39m.\u001b[39mclick()\n\u001b[0;32m     <a href='vscode-notebook-cell:/g%3A/My%20Drive/news%20crawler/news_data/scroller1.ipynb#W1sZmlsZQ%3D%3D?line=20'>21</a>\u001b[0m \u001b[39mexcept\u001b[39;00m ElementNotInteractableException:\n",
      "File \u001b[1;32mc:\\Users\\tomme\\AppData\\Local\\Programs\\Python\\Python311\\Lib\\site-packages\\selenium\\webdriver\\remote\\webdriver.py:738\u001b[0m, in \u001b[0;36mWebDriver.find_element\u001b[1;34m(self, by, value)\u001b[0m\n\u001b[0;32m    735\u001b[0m     by \u001b[39m=\u001b[39m By\u001b[39m.\u001b[39mCSS_SELECTOR\n\u001b[0;32m    736\u001b[0m     value \u001b[39m=\u001b[39m \u001b[39mf\u001b[39m\u001b[39m'\u001b[39m\u001b[39m[name=\u001b[39m\u001b[39m\"\u001b[39m\u001b[39m{\u001b[39;00mvalue\u001b[39m}\u001b[39;00m\u001b[39m\"\u001b[39m\u001b[39m]\u001b[39m\u001b[39m'\u001b[39m\n\u001b[1;32m--> 738\u001b[0m \u001b[39mreturn\u001b[39;00m \u001b[39mself\u001b[39;49m\u001b[39m.\u001b[39;49mexecute(Command\u001b[39m.\u001b[39;49mFIND_ELEMENT, {\u001b[39m\"\u001b[39;49m\u001b[39musing\u001b[39;49m\u001b[39m\"\u001b[39;49m: by, \u001b[39m\"\u001b[39;49m\u001b[39mvalue\u001b[39;49m\u001b[39m\"\u001b[39;49m: value})[\u001b[39m\"\u001b[39m\u001b[39mvalue\u001b[39m\u001b[39m\"\u001b[39m]\n",
      "File \u001b[1;32mc:\\Users\\tomme\\AppData\\Local\\Programs\\Python\\Python311\\Lib\\site-packages\\selenium\\webdriver\\remote\\webdriver.py:344\u001b[0m, in \u001b[0;36mWebDriver.execute\u001b[1;34m(self, driver_command, params)\u001b[0m\n\u001b[0;32m    342\u001b[0m response \u001b[39m=\u001b[39m \u001b[39mself\u001b[39m\u001b[39m.\u001b[39mcommand_executor\u001b[39m.\u001b[39mexecute(driver_command, params)\n\u001b[0;32m    343\u001b[0m \u001b[39mif\u001b[39;00m response:\n\u001b[1;32m--> 344\u001b[0m     \u001b[39mself\u001b[39;49m\u001b[39m.\u001b[39;49merror_handler\u001b[39m.\u001b[39;49mcheck_response(response)\n\u001b[0;32m    345\u001b[0m     response[\u001b[39m\"\u001b[39m\u001b[39mvalue\u001b[39m\u001b[39m\"\u001b[39m] \u001b[39m=\u001b[39m \u001b[39mself\u001b[39m\u001b[39m.\u001b[39m_unwrap_value(response\u001b[39m.\u001b[39mget(\u001b[39m\"\u001b[39m\u001b[39mvalue\u001b[39m\u001b[39m\"\u001b[39m, \u001b[39mNone\u001b[39;00m))\n\u001b[0;32m    346\u001b[0m     \u001b[39mreturn\u001b[39;00m response\n",
      "File \u001b[1;32mc:\\Users\\tomme\\AppData\\Local\\Programs\\Python\\Python311\\Lib\\site-packages\\selenium\\webdriver\\remote\\errorhandler.py:229\u001b[0m, in \u001b[0;36mErrorHandler.check_response\u001b[1;34m(self, response)\u001b[0m\n\u001b[0;32m    227\u001b[0m         alert_text \u001b[39m=\u001b[39m value[\u001b[39m\"\u001b[39m\u001b[39malert\u001b[39m\u001b[39m\"\u001b[39m]\u001b[39m.\u001b[39mget(\u001b[39m\"\u001b[39m\u001b[39mtext\u001b[39m\u001b[39m\"\u001b[39m)\n\u001b[0;32m    228\u001b[0m     \u001b[39mraise\u001b[39;00m exception_class(message, screen, stacktrace, alert_text)  \u001b[39m# type: ignore[call-arg]  # mypy is not smart enough here\u001b[39;00m\n\u001b[1;32m--> 229\u001b[0m \u001b[39mraise\u001b[39;00m exception_class(message, screen, stacktrace)\n",
      "\u001b[1;31mNoSuchElementException\u001b[0m: Message: no such element: Unable to locate element: {\"method\":\"css selector\",\"selector\":\".btn-timeline-more mt-5 control__loadmore\"}\n  (Session info: chrome=116.0.5845.188); For documentation on this error, please visit: https://www.selenium.dev/documentation/webdriver/troubleshooting/errors#no-such-element-exception\nStacktrace:\n\tGetHandleVerifier [0x00007FF79B1952A2+57122]\n\t(No symbol) [0x00007FF79B10EA92]\n\t(No symbol) [0x00007FF79AFDE3AB]\n\t(No symbol) [0x00007FF79B017D3E]\n\t(No symbol) [0x00007FF79B017E2C]\n\t(No symbol) [0x00007FF79B050B67]\n\t(No symbol) [0x00007FF79B03701F]\n\t(No symbol) [0x00007FF79B04EB82]\n\t(No symbol) [0x00007FF79B036DB3]\n\t(No symbol) [0x00007FF79B00D2B1]\n\t(No symbol) [0x00007FF79B00E494]\n\tGetHandleVerifier [0x00007FF79B43EF82+2849794]\n\tGetHandleVerifier [0x00007FF79B491D24+3189156]\n\tGetHandleVerifier [0x00007FF79B48ACAF+3160367]\n\tGetHandleVerifier [0x00007FF79B226D06+653702]\n\t(No symbol) [0x00007FF79B11A208]\n\t(No symbol) [0x00007FF79B1162C4]\n\t(No symbol) [0x00007FF79B1163F6]\n\t(No symbol) [0x00007FF79B1067A3]\n\tBaseThreadInitThunk [0x00007FFA6141257D+29]\n\tRtlUserThreadStart [0x00007FFA6216AA68+40]\n"
     ]
    }
   ],
   "source": [
    "# Initialize the web driver (e.g., for Chrome)\n",
    "\n",
    "outputcsv = 'test.csv'\n",
    "\n",
    "driver = webdriver.Chrome()\n",
    "\n",
    "# Navigate to the website\n",
    "driver.get('https://thanhnien.vn/search/s%E1%BB%91%20h%C3%B3a.tpo')\n",
    "\n",
    "# Loop to click the \"Show More\" button until it's no longer present\n",
    "start_time = time.time()\n",
    "max_runtime = 10\n",
    "while True:\n",
    "    initial_height = driver.execute_script(\"return document.body.scrollHeight\")\n",
    "    driver.execute_script(\"window.scrollTo(0, document.body.scrollHeight);\")\n",
    "\n",
    "\n",
    "    try:\n",
    "        view_more_link = driver.find_element(By.CLASS_NAME,\"btn-timeline-more mt-5 control__loadmore\")\n",
    "        view_more_link.click()\n",
    "    except ElementNotInteractableException:\n",
    "        print(\"not interact\")\n",
    "    except ElementClickInterceptedException:\n",
    "        print(\"not click\")\n",
    "    else:\n",
    "        driver.execute_script(\"window.scrollTo(0, document.body.scrollHeight);\")\n",
    "    current_time = time.time()\n",
    "    elapsed_time = current_time - start_time\n",
    "    if elapsed_time >= max_runtime:\n",
    "        break\n",
    "page_source = driver.page_source\n",
    "print(len(page_source))\n",
    "soup = BeautifulSoup(page_source, 'html.parser')\n",
    "links = soup.find_all('a', class_='box-category-link-title')\n",
    "with open(outputcsv,'w', encoding='utf-8',newline='') as outputfile:\n",
    "    csv_writer = csv.writer(outputfile)\n",
    "    csv_writer.writerow(['Title', 'URL'])\n",
    "    for link in links:\n",
    "        title = link.get('title')\n",
    "        url = link.get('href')\n",
    "        \n",
    "        csv_writer.writerow([title, url])\n",
    "driver.quit()\n"
   ]
  }
 ],
 "metadata": {
  "kernelspec": {
   "display_name": "Python 3",
   "language": "python",
   "name": "python3"
  },
  "language_info": {
   "codemirror_mode": {
    "name": "ipython",
    "version": 3
   },
   "file_extension": ".py",
   "mimetype": "text/x-python",
   "name": "python",
   "nbconvert_exporter": "python",
   "pygments_lexer": "ipython3",
   "version": "3.11.4"
  },
  "orig_nbformat": 4
 },
 "nbformat": 4,
 "nbformat_minor": 2
}
