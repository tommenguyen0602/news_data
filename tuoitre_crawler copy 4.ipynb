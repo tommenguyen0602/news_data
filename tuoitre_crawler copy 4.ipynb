{
 "cells": [
  {
   "cell_type": "code",
   "execution_count": 1,
   "metadata": {},
   "outputs": [],
   "source": [
    "from selenium import webdriver\n",
    "from selenium.webdriver.common.by import By\n",
    "from selenium.webdriver.common.keys import Keys\n",
    "from selenium.webdriver.support.ui import WebDriverWait\n",
    "from selenium.webdriver.support import expected_conditions as EC\n",
    "from urllib.parse import quote\n",
    "from selenium.webdriver.chrome.service import Service\n",
    "from selenium.common.exceptions import ElementNotInteractableException\n",
    "from selenium.common.exceptions import ElementClickInterceptedException\n",
    "import time\n",
    "from bs4 import BeautifulSoup\n",
    "import csv"
   ]
  },
  {
   "cell_type": "code",
   "execution_count": 2,
   "metadata": {},
   "outputs": [],
   "source": [
    "# Initialize the web driver (e.g., for Chrome)\n",
    "\n",
    "\n",
    "\n",
    "def many_crawler(keyword, searchbase,timecounter):\n",
    "    outputcsv = './data/'+'tuoitre_'+ str(keyword)+ '.csv'\n",
    "    geturl = searchbase + keyword\n",
    "    driver = webdriver.Chrome()\n",
    "    driver.get(geturl)\n",
    "    start_time = time.time()\n",
    "    max_runtime = timecounter\n",
    "    while True:\n",
    "        initial_height = driver.execute_script(\"return document.body.scrollHeight\")\n",
    "        driver.execute_script(\"window.scrollTo(0, document.body.scrollHeight);\")\n",
    "        try:\n",
    "            view_more_link = driver.find_element(By.CLASS_NAME,\"view-more\")\n",
    "            view_more_link.click()\n",
    "        except ElementNotInteractableException:\n",
    "            print(\"not interact\")\n",
    "        except ElementClickInterceptedException:\n",
    "            print(\"not click\")\n",
    "        else:\n",
    "            driver.execute_script(\"window.scrollTo(0, document.body.scrollHeight);\")\n",
    "        current_time = time.time()\n",
    "        elapsed_time = current_time - start_time\n",
    "        if elapsed_time >= max_runtime:\n",
    "            break\n",
    "    page_source = driver.page_source\n",
    "    driver.quit()\n",
    "    print(len(page_source))\n",
    "    soup = BeautifulSoup(page_source, 'html.parser')\n",
    "    links = soup.find_all('a', class_='box-category-link-title')\n",
    "    with open(outputcsv,'w', encoding='utf-8',newline='') as outputfile:\n",
    "        csv_writer = csv.writer(outputfile)\n",
    "        csv_writer.writerow(['Title', 'URL'])\n",
    "        for link in links:\n",
    "            title = link.get('title')\n",
    "            url = link.get('href')\n",
    "            csv_writer.writerow([title, url])\n",
    "    \n"
   ]
  },
  {
   "cell_type": "code",
   "execution_count": 3,
   "metadata": {},
   "outputs": [
    {
     "name": "stdout",
     "output_type": "stream",
     "text": [
      "not interact\n",
      "not interact\n"
     ]
    },
    {
     "ename": "StaleElementReferenceException",
     "evalue": "Message: stale element reference: stale element not found\n  (Session info: chrome=116.0.5845.188); For documentation on this error, please visit: https://www.selenium.dev/documentation/webdriver/troubleshooting/errors#stale-element-reference-exception\nStacktrace:\n\tGetHandleVerifier [0x00007FF79B1952A2+57122]\n\t(No symbol) [0x00007FF79B10EA92]\n\t(No symbol) [0x00007FF79AFDE3AB]\n\t(No symbol) [0x00007FF79AFE2382]\n\t(No symbol) [0x00007FF79AFE3D2F]\n\t(No symbol) [0x00007FF79AFE3E20]\n\t(No symbol) [0x00007FF79B0197A4]\n\t(No symbol) [0x00007FF79B018DF3]\n\t(No symbol) [0x00007FF79B00F25F]\n\t(No symbol) [0x00007FF79B036FDA]\n\t(No symbol) [0x00007FF79B00EB76]\n\t(No symbol) [0x00007FF79B0371F0]\n\t(No symbol) [0x00007FF79B04EB82]\n\t(No symbol) [0x00007FF79B036DB3]\n\t(No symbol) [0x00007FF79B00D2B1]\n\t(No symbol) [0x00007FF79B00E494]\n\tGetHandleVerifier [0x00007FF79B43EF82+2849794]\n\tGetHandleVerifier [0x00007FF79B491D24+3189156]\n\tGetHandleVerifier [0x00007FF79B48ACAF+3160367]\n\tGetHandleVerifier [0x00007FF79B226D06+653702]\n\t(No symbol) [0x00007FF79B11A208]\n\t(No symbol) [0x00007FF79B1162C4]\n\t(No symbol) [0x00007FF79B1163F6]\n\t(No symbol) [0x00007FF79B1067A3]\n\tBaseThreadInitThunk [0x00007FFA6141257D+29]\n\tRtlUserThreadStart [0x00007FFA6216AA68+40]\n",
     "output_type": "error",
     "traceback": [
      "\u001b[1;31m---------------------------------------------------------------------------\u001b[0m",
      "\u001b[1;31mStaleElementReferenceException\u001b[0m            Traceback (most recent call last)",
      "\u001b[1;32mg:\\My Drive\\news crawler\\news_data\\tuoitre_crawler copy 4.ipynb Cell 3\u001b[0m line \u001b[0;36m1\n\u001b[0;32m     <a href='vscode-notebook-cell:/g%3A/My%20Drive/news%20crawler/news_data/tuoitre_crawler%20copy%204.ipynb#W2sZmlsZQ%3D%3D?line=12'>13</a>\u001b[0m \u001b[39mfor\u001b[39;00m text \u001b[39min\u001b[39;00m keywords:\n\u001b[0;32m     <a href='vscode-notebook-cell:/g%3A/My%20Drive/news%20crawler/news_data/tuoitre_crawler%20copy%204.ipynb#W2sZmlsZQ%3D%3D?line=13'>14</a>\u001b[0m     encoded_string \u001b[39m=\u001b[39m urllib\u001b[39m.\u001b[39mparse\u001b[39m.\u001b[39mquote(text)\n\u001b[1;32m---> <a href='vscode-notebook-cell:/g%3A/My%20Drive/news%20crawler/news_data/tuoitre_crawler%20copy%204.ipynb#W2sZmlsZQ%3D%3D?line=14'>15</a>\u001b[0m     many_crawler(keyword\u001b[39m=\u001b[39;49mtext, searchbase\u001b[39m=\u001b[39;49msearchbase,timecounter\u001b[39m=\u001b[39;49m\u001b[39m300\u001b[39;49m)\n\u001b[0;32m     <a href='vscode-notebook-cell:/g%3A/My%20Drive/news%20crawler/news_data/tuoitre_crawler%20copy%204.ipynb#W2sZmlsZQ%3D%3D?line=15'>16</a>\u001b[0m     time\u001b[39m.\u001b[39msleep(\u001b[39m3\u001b[39m)\n",
      "\u001b[1;32mg:\\My Drive\\news crawler\\news_data\\tuoitre_crawler copy 4.ipynb Cell 3\u001b[0m line \u001b[0;36m1\n\u001b[0;32m     <a href='vscode-notebook-cell:/g%3A/My%20Drive/news%20crawler/news_data/tuoitre_crawler%20copy%204.ipynb#W2sZmlsZQ%3D%3D?line=14'>15</a>\u001b[0m \u001b[39mtry\u001b[39;00m:\n\u001b[0;32m     <a href='vscode-notebook-cell:/g%3A/My%20Drive/news%20crawler/news_data/tuoitre_crawler%20copy%204.ipynb#W2sZmlsZQ%3D%3D?line=15'>16</a>\u001b[0m     view_more_link \u001b[39m=\u001b[39m driver\u001b[39m.\u001b[39mfind_element(By\u001b[39m.\u001b[39mCLASS_NAME,\u001b[39m\"\u001b[39m\u001b[39mview-more\u001b[39m\u001b[39m\"\u001b[39m)\n\u001b[1;32m---> <a href='vscode-notebook-cell:/g%3A/My%20Drive/news%20crawler/news_data/tuoitre_crawler%20copy%204.ipynb#W2sZmlsZQ%3D%3D?line=16'>17</a>\u001b[0m     view_more_link\u001b[39m.\u001b[39;49mclick()\n\u001b[0;32m     <a href='vscode-notebook-cell:/g%3A/My%20Drive/news%20crawler/news_data/tuoitre_crawler%20copy%204.ipynb#W2sZmlsZQ%3D%3D?line=17'>18</a>\u001b[0m \u001b[39mexcept\u001b[39;00m ElementNotInteractableException:\n\u001b[0;32m     <a href='vscode-notebook-cell:/g%3A/My%20Drive/news%20crawler/news_data/tuoitre_crawler%20copy%204.ipynb#W2sZmlsZQ%3D%3D?line=18'>19</a>\u001b[0m     \u001b[39mprint\u001b[39m(\u001b[39m\"\u001b[39m\u001b[39mnot interact\u001b[39m\u001b[39m\"\u001b[39m)\n",
      "File \u001b[1;32mc:\\Users\\tomme\\AppData\\Local\\Programs\\Python\\Python311\\Lib\\site-packages\\selenium\\webdriver\\remote\\webelement.py:93\u001b[0m, in \u001b[0;36mWebElement.click\u001b[1;34m(self)\u001b[0m\n\u001b[0;32m     91\u001b[0m \u001b[39mdef\u001b[39;00m \u001b[39mclick\u001b[39m(\u001b[39mself\u001b[39m) \u001b[39m-\u001b[39m\u001b[39m>\u001b[39m \u001b[39mNone\u001b[39;00m:\n\u001b[0;32m     92\u001b[0m \u001b[39m    \u001b[39m\u001b[39m\"\"\"Clicks the element.\"\"\"\u001b[39;00m\n\u001b[1;32m---> 93\u001b[0m     \u001b[39mself\u001b[39;49m\u001b[39m.\u001b[39;49m_execute(Command\u001b[39m.\u001b[39;49mCLICK_ELEMENT)\n",
      "File \u001b[1;32mc:\\Users\\tomme\\AppData\\Local\\Programs\\Python\\Python311\\Lib\\site-packages\\selenium\\webdriver\\remote\\webelement.py:394\u001b[0m, in \u001b[0;36mWebElement._execute\u001b[1;34m(self, command, params)\u001b[0m\n\u001b[0;32m    392\u001b[0m     params \u001b[39m=\u001b[39m {}\n\u001b[0;32m    393\u001b[0m params[\u001b[39m\"\u001b[39m\u001b[39mid\u001b[39m\u001b[39m\"\u001b[39m] \u001b[39m=\u001b[39m \u001b[39mself\u001b[39m\u001b[39m.\u001b[39m_id\n\u001b[1;32m--> 394\u001b[0m \u001b[39mreturn\u001b[39;00m \u001b[39mself\u001b[39;49m\u001b[39m.\u001b[39;49m_parent\u001b[39m.\u001b[39;49mexecute(command, params)\n",
      "File \u001b[1;32mc:\\Users\\tomme\\AppData\\Local\\Programs\\Python\\Python311\\Lib\\site-packages\\selenium\\webdriver\\remote\\webdriver.py:344\u001b[0m, in \u001b[0;36mWebDriver.execute\u001b[1;34m(self, driver_command, params)\u001b[0m\n\u001b[0;32m    342\u001b[0m response \u001b[39m=\u001b[39m \u001b[39mself\u001b[39m\u001b[39m.\u001b[39mcommand_executor\u001b[39m.\u001b[39mexecute(driver_command, params)\n\u001b[0;32m    343\u001b[0m \u001b[39mif\u001b[39;00m response:\n\u001b[1;32m--> 344\u001b[0m     \u001b[39mself\u001b[39;49m\u001b[39m.\u001b[39;49merror_handler\u001b[39m.\u001b[39;49mcheck_response(response)\n\u001b[0;32m    345\u001b[0m     response[\u001b[39m\"\u001b[39m\u001b[39mvalue\u001b[39m\u001b[39m\"\u001b[39m] \u001b[39m=\u001b[39m \u001b[39mself\u001b[39m\u001b[39m.\u001b[39m_unwrap_value(response\u001b[39m.\u001b[39mget(\u001b[39m\"\u001b[39m\u001b[39mvalue\u001b[39m\u001b[39m\"\u001b[39m, \u001b[39mNone\u001b[39;00m))\n\u001b[0;32m    346\u001b[0m     \u001b[39mreturn\u001b[39;00m response\n",
      "File \u001b[1;32mc:\\Users\\tomme\\AppData\\Local\\Programs\\Python\\Python311\\Lib\\site-packages\\selenium\\webdriver\\remote\\errorhandler.py:229\u001b[0m, in \u001b[0;36mErrorHandler.check_response\u001b[1;34m(self, response)\u001b[0m\n\u001b[0;32m    227\u001b[0m         alert_text \u001b[39m=\u001b[39m value[\u001b[39m\"\u001b[39m\u001b[39malert\u001b[39m\u001b[39m\"\u001b[39m]\u001b[39m.\u001b[39mget(\u001b[39m\"\u001b[39m\u001b[39mtext\u001b[39m\u001b[39m\"\u001b[39m)\n\u001b[0;32m    228\u001b[0m     \u001b[39mraise\u001b[39;00m exception_class(message, screen, stacktrace, alert_text)  \u001b[39m# type: ignore[call-arg]  # mypy is not smart enough here\u001b[39;00m\n\u001b[1;32m--> 229\u001b[0m \u001b[39mraise\u001b[39;00m exception_class(message, screen, stacktrace)\n",
      "\u001b[1;31mStaleElementReferenceException\u001b[0m: Message: stale element reference: stale element not found\n  (Session info: chrome=116.0.5845.188); For documentation on this error, please visit: https://www.selenium.dev/documentation/webdriver/troubleshooting/errors#stale-element-reference-exception\nStacktrace:\n\tGetHandleVerifier [0x00007FF79B1952A2+57122]\n\t(No symbol) [0x00007FF79B10EA92]\n\t(No symbol) [0x00007FF79AFDE3AB]\n\t(No symbol) [0x00007FF79AFE2382]\n\t(No symbol) [0x00007FF79AFE3D2F]\n\t(No symbol) [0x00007FF79AFE3E20]\n\t(No symbol) [0x00007FF79B0197A4]\n\t(No symbol) [0x00007FF79B018DF3]\n\t(No symbol) [0x00007FF79B00F25F]\n\t(No symbol) [0x00007FF79B036FDA]\n\t(No symbol) [0x00007FF79B00EB76]\n\t(No symbol) [0x00007FF79B0371F0]\n\t(No symbol) [0x00007FF79B04EB82]\n\t(No symbol) [0x00007FF79B036DB3]\n\t(No symbol) [0x00007FF79B00D2B1]\n\t(No symbol) [0x00007FF79B00E494]\n\tGetHandleVerifier [0x00007FF79B43EF82+2849794]\n\tGetHandleVerifier [0x00007FF79B491D24+3189156]\n\tGetHandleVerifier [0x00007FF79B48ACAF+3160367]\n\tGetHandleVerifier [0x00007FF79B226D06+653702]\n\t(No symbol) [0x00007FF79B11A208]\n\t(No symbol) [0x00007FF79B1162C4]\n\t(No symbol) [0x00007FF79B1163F6]\n\t(No symbol) [0x00007FF79B1067A3]\n\tBaseThreadInitThunk [0x00007FFA6141257D+29]\n\tRtlUserThreadStart [0x00007FFA6216AA68+40]\n"
     ]
    }
   ],
   "source": [
    "# List of keywords\n",
    "keywords = [\n",
    "    \"Kinh doanh số\",\n",
    "    \"Thị trường số\",\n",
    "    \"AI\",\n",
    "    \"Trí tuệ nhân tạo\"\n",
    "]\n",
    "import urllib.parse\n",
    "\n",
    "searchbase = \"https://tuoitre.vn/tim-kiem.htm?keywords=\"\n",
    "# Printing the list of Python keywords\n",
    "encoded_keywords=[]\n",
    "for text in keywords:\n",
    "    encoded_string = urllib.parse.quote(text)\n",
    "    many_crawler(keyword=text, searchbase=searchbase,timecounter=300)\n",
    "    time.sleep(3)"
   ]
  },
  {
   "cell_type": "code",
   "execution_count": null,
   "metadata": {},
   "outputs": [],
   "source": []
  }
 ],
 "metadata": {
  "kernelspec": {
   "display_name": "Python 3",
   "language": "python",
   "name": "python3"
  },
  "language_info": {
   "codemirror_mode": {
    "name": "ipython",
    "version": 3
   },
   "file_extension": ".py",
   "mimetype": "text/x-python",
   "name": "python",
   "nbconvert_exporter": "python",
   "pygments_lexer": "ipython3",
   "version": "3.11.4"
  },
  "orig_nbformat": 4
 },
 "nbformat": 4,
 "nbformat_minor": 2
}
