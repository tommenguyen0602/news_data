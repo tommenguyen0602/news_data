{
 "cells": [
  {
   "cell_type": "code",
   "execution_count": 10,
   "metadata": {},
   "outputs": [
    {
     "name": "stdout",
     "output_type": "stream",
     "text": [
      "                                                           Title  \\\n",
      "count                                                        180   \n",
      "unique                                                       178   \n",
      "top     Chủ tịch Meey Land: 'Start-up Việt đang cảm thấy cô đơn'   \n",
      "freq                                                           2   \n",
      "\n",
      "                                                                                                             URL  \n",
      "count                                                                                                        180  \n",
      "unique                                                                                                       180  \n",
      "top     https://tienphong.vn/bo-truong-noi-vu-huong-den-xay-dung-xa-hoi-luu-tru-quoc-gia-luu-tru-post1570081.tpo  \n",
      "freq                                                                                                           1  \n"
     ]
    },
    {
     "data": {
      "text/plain": [
       "<bound method DataFrame.duplicated of                                                                                          Title  \\\n",
       "0                        Bộ trưởng Nội vụ: Hướng đến xây dựng xã hội lưu trữ, quốc gia lưu trữ   \n",
       "1       Tập đoàn công nghệ hàng đầu Trung Quốc quan tâm xây dựng cơ sở hạ tầng số tại Việt Nam   \n",
       "2                                  Doanh nghiệp muốn vay nghìn tỷ làm dự án NƠXH tại Hải Phòng   \n",
       "3    VNPT HKD và OneSME được vinh danh tại Lễ công bố giải pháp đổi mới sáng tạo Việt Nam 2023   \n",
       "4                                 Cơ hội thanh niên phát huy vai trò tiên phong chuyển đổi số    \n",
       "..                                                                                         ...   \n",
       "175                                   Chủ tịch Meey Land: 'Start-up Việt đang cảm thấy cô đơn'   \n",
       "176                                  Thêm 9 dự án nhà ở xã hội được vay vốn hỗ trợ lãi suất 2%   \n",
       "177                            'Tuổi trẻ xứ Lạng cần phát huy khát vọng, tiên phong hành động'   \n",
       "178                     MobiFone vào Top 10 Thương hiệu mạnh Việt Nam ngành Công nghệ năm 2022   \n",
       "179                    Hỗ trợ chuyển đổi số cho nông dân, đi đầu trong khởi nghiệp, lập nghiệp   \n",
       "\n",
       "                                                                                                                                URL  \n",
       "0                          https://tienphong.vn/bo-truong-noi-vu-huong-den-xay-dung-xa-hoi-luu-tru-quoc-gia-luu-tru-post1570081.tpo  \n",
       "1       https://tienphong.vn/tap-doan-cong-nghe-hang-dau-trung-quoc-quan-tam-xay-dung-co-so-ha-tang-so-tai-viet-nam-post1569732.tpo  \n",
       "2                                  https://tienphong.vn/doanh-nghiep-muon-vay-nghin-ty-lam-du-an-noxh-tai-hai-phong-post1568235.tpo  \n",
       "3    https://tienphong.vn/vnpt-hkd-va-onesme-duoc-vinh-danh-tai-le-cong-bo-giai-phap-doi-moi-sang-tao-viet-nam-2023-post1567401.tpo  \n",
       "4                                  https://tienphong.vn/co-hoi-thanh-nien-phat-huy-vai-tro-tien-phong-chuyen-doi-so-post1567146.tpo  \n",
       "..                                                                                                                              ...  \n",
       "175                                      https://tienphong.vn/chu-tich-meey-land-start-up-viet-dang-cam-thay-co-don-post1478577.tpo  \n",
       "176                                   https://tienphong.vn/them-9-du-an-nha-o-xa-hoi-duoc-vay-von-ho-tro-lai-suat-2-post1478245.tpo  \n",
       "177                               https://tienphong.vn/tuoi-tre-xu-lang-can-phat-huy-khat-vong-tien-phong-hanh-dong-post1478154.tpo  \n",
       "178                     https://tienphong.vn/mobifone-vao-top-10-thuong-hieu-manh-viet-nam-nganh-cong-nghe-nam-2022-post1478013.tpo  \n",
       "179                      https://tienphong.vn/ho-tro-chuyen-doi-so-cho-nong-dan-di-dau-trong-khoi-nghiep-lap-nghiep-post1477892.tpo  \n",
       "\n",
       "[180 rows x 2 columns]>"
      ]
     },
     "execution_count": 10,
     "metadata": {},
     "output_type": "execute_result"
    }
   ],
   "source": [
    "import csv\n",
    "import pandas\n",
    "import numpy\n",
    "pandas.set_option(\"display.max_colwidth\", None)\n",
    "df = pandas.read_csv(\"tienphong/tienphong_xã hội số.csv\")\n",
    "print(df.describe())\n",
    "df.duplicated "
   ]
  }
 ],
 "metadata": {
  "kernelspec": {
   "display_name": "Python 3",
   "language": "python",
   "name": "python3"
  },
  "language_info": {
   "codemirror_mode": {
    "name": "ipython",
    "version": 3
   },
   "file_extension": ".py",
   "mimetype": "text/x-python",
   "name": "python",
   "nbconvert_exporter": "python",
   "pygments_lexer": "ipython3",
   "version": "3.11.4"
  },
  "orig_nbformat": 4
 },
 "nbformat": 4,
 "nbformat_minor": 2
}
