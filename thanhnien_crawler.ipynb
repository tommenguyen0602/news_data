{
 "cells": [
  {
   "cell_type": "code",
   "execution_count": 34,
   "metadata": {},
   "outputs": [],
   "source": [
    "from selenium import webdriver\n",
    "from selenium.webdriver.common.by import By\n",
    "from selenium.webdriver.common.keys import Keys\n",
    "from selenium.webdriver.support.ui import WebDriverWait\n",
    "from selenium.webdriver.support import expected_conditions as EC\n",
    "from urllib.parse import quote\n",
    "from selenium.webdriver.chrome.service import Service\n",
    "from selenium.common.exceptions import ElementNotInteractableException\n",
    "from selenium.common.exceptions import ElementClickInterceptedException\n",
    "from selenium.common.exceptions import NoSuchElementException\n",
    "import time\n",
    "from bs4 import BeautifulSoup\n",
    "import csv"
   ]
  },
  {
   "cell_type": "code",
   "execution_count": 35,
   "metadata": {},
   "outputs": [],
   "source": [
    "# Initialize the web driver (e.g., for Chrome)\n",
    "\n",
    "\n",
    "def many_crawler(keyword, searchbase,timecounter):\n",
    "    outputcsv = './thanhnien/'+'thanhnien_'+ str(keyword)+ '.csv'\n",
    "    geturl = searchbase + keyword\n",
    "    driver = webdriver.Chrome()\n",
    "    driver.get(geturl)\n",
    "    start_time = time.time()\n",
    "    max_runtime = timecounter\n",
    "    while True:\n",
    "        initial_height = driver.execute_script(\"return document.body.scrollHeight\")\n",
    "        driver.execute_script(\"window.scrollTo(0, document.body.scrollHeight);\")\n",
    "        try:\n",
    "            view_more_link = driver.find_element(By.LINK_TEXT, \"Xem thêm\")\n",
    "            view_more_link.click()\n",
    "        except ElementNotInteractableException:\n",
    "            print(\"not interact\")\n",
    "        except ElementClickInterceptedException:\n",
    "            print(\"not click\")\n",
    "        except NoSuchElementException:\n",
    "            print(\"not such\")\n",
    "        else:\n",
    "            driver.execute_script(\"window.scrollTo(0, document.body.scrollHeight);\")\n",
    "        current_time = time.time()\n",
    "        elapsed_time = current_time - start_time\n",
    "        if elapsed_time >= max_runtime:\n",
    "            break\n",
    "    page_source = driver.page_source\n",
    "    driver.quit()\n",
    "    print(len(page_source))\n",
    "    soup = BeautifulSoup(page_source, 'html.parser')\n",
    "    links = soup.find_all('a', class_='box-category-link-title')\n",
    "    with open(outputcsv,'w', encoding='utf-8',newline='') as outputfile:\n",
    "        csv_writer = csv.writer(outputfile)\n",
    "        csv_writer.writerow(['Title', 'URL'])\n",
    "        for link in links:\n",
    "            title = link.get('title')\n",
    "            url = link.get('href')\n",
    "            csv_writer.writerow([title, url])\n",
    "    \n"
   ]
  },
  {
   "cell_type": "code",
   "execution_count": 36,
   "metadata": {},
   "outputs": [
    {
     "ename": "NoSuchWindowException",
     "evalue": "Message: no such window: target window already closed\nfrom unknown error: web view not found\n  (Session info: chrome=116.0.5845.188)\nStacktrace:\n\tGetHandleVerifier [0x00007FF6BB7D52A2+57122]\n\t(No symbol) [0x00007FF6BB74EA92]\n\t(No symbol) [0x00007FF6BB61E3AB]\n\t(No symbol) [0x00007FF6BB5FE1B9]\n\t(No symbol) [0x00007FF6BB67B417]\n\t(No symbol) [0x00007FF6BB68E24F]\n\t(No symbol) [0x00007FF6BB676DB3]\n\t(No symbol) [0x00007FF6BB64D2B1]\n\t(No symbol) [0x00007FF6BB64E494]\n\tGetHandleVerifier [0x00007FF6BBA7EF82+2849794]\n\tGetHandleVerifier [0x00007FF6BBAD1D24+3189156]\n\tGetHandleVerifier [0x00007FF6BBACACAF+3160367]\n\tGetHandleVerifier [0x00007FF6BB866D06+653702]\n\t(No symbol) [0x00007FF6BB75A208]\n\t(No symbol) [0x00007FF6BB7562C4]\n\t(No symbol) [0x00007FF6BB7563F6]\n\t(No symbol) [0x00007FF6BB7467A3]\n\tBaseThreadInitThunk [0x00007FFA6141257D+29]\n\tRtlUserThreadStart [0x00007FFA6216AA68+40]\n",
     "output_type": "error",
     "traceback": [
      "\u001b[1;31m---------------------------------------------------------------------------\u001b[0m",
      "\u001b[1;31mNoSuchWindowException\u001b[0m                     Traceback (most recent call last)",
      "\u001b[1;32mc:\\Users\\tomme\\Desktop\\news_data\\thanhnien_crawler.ipynb Cell 3\u001b[0m line \u001b[0;36m1\n\u001b[0;32m     <a href='vscode-notebook-cell:/c%3A/Users/tomme/Desktop/news_data/thanhnien_crawler.ipynb#W2sZmlsZQ%3D%3D?line=9'>10</a>\u001b[0m \u001b[39mfor\u001b[39;00m text \u001b[39min\u001b[39;00m keywords:\n\u001b[0;32m     <a href='vscode-notebook-cell:/c%3A/Users/tomme/Desktop/news_data/thanhnien_crawler.ipynb#W2sZmlsZQ%3D%3D?line=10'>11</a>\u001b[0m     encoded_string \u001b[39m=\u001b[39m urllib\u001b[39m.\u001b[39mparse\u001b[39m.\u001b[39mquote(text)\n\u001b[1;32m---> <a href='vscode-notebook-cell:/c%3A/Users/tomme/Desktop/news_data/thanhnien_crawler.ipynb#W2sZmlsZQ%3D%3D?line=11'>12</a>\u001b[0m     many_crawler(keyword\u001b[39m=\u001b[39;49mtext, searchbase\u001b[39m=\u001b[39;49msearchbase,timecounter\u001b[39m=\u001b[39;49m\u001b[39m220\u001b[39;49m)\n\u001b[0;32m     <a href='vscode-notebook-cell:/c%3A/Users/tomme/Desktop/news_data/thanhnien_crawler.ipynb#W2sZmlsZQ%3D%3D?line=12'>13</a>\u001b[0m     time\u001b[39m.\u001b[39msleep(\u001b[39m3\u001b[39m)\n",
      "\u001b[1;32mc:\\Users\\tomme\\Desktop\\news_data\\thanhnien_crawler.ipynb Cell 3\u001b[0m line \u001b[0;36m1\n\u001b[0;32m     <a href='vscode-notebook-cell:/c%3A/Users/tomme/Desktop/news_data/thanhnien_crawler.ipynb#W2sZmlsZQ%3D%3D?line=9'>10</a>\u001b[0m max_runtime \u001b[39m=\u001b[39m timecounter\n\u001b[0;32m     <a href='vscode-notebook-cell:/c%3A/Users/tomme/Desktop/news_data/thanhnien_crawler.ipynb#W2sZmlsZQ%3D%3D?line=10'>11</a>\u001b[0m \u001b[39mwhile\u001b[39;00m \u001b[39mTrue\u001b[39;00m:\n\u001b[1;32m---> <a href='vscode-notebook-cell:/c%3A/Users/tomme/Desktop/news_data/thanhnien_crawler.ipynb#W2sZmlsZQ%3D%3D?line=11'>12</a>\u001b[0m     initial_height \u001b[39m=\u001b[39m driver\u001b[39m.\u001b[39;49mexecute_script(\u001b[39m\"\u001b[39;49m\u001b[39mreturn document.body.scrollHeight\u001b[39;49m\u001b[39m\"\u001b[39;49m)\n\u001b[0;32m     <a href='vscode-notebook-cell:/c%3A/Users/tomme/Desktop/news_data/thanhnien_crawler.ipynb#W2sZmlsZQ%3D%3D?line=12'>13</a>\u001b[0m     driver\u001b[39m.\u001b[39mexecute_script(\u001b[39m\"\u001b[39m\u001b[39mwindow.scrollTo(0, document.body.scrollHeight);\u001b[39m\u001b[39m\"\u001b[39m)\n\u001b[0;32m     <a href='vscode-notebook-cell:/c%3A/Users/tomme/Desktop/news_data/thanhnien_crawler.ipynb#W2sZmlsZQ%3D%3D?line=13'>14</a>\u001b[0m     \u001b[39mtry\u001b[39;00m:\n",
      "File \u001b[1;32mc:\\Users\\tomme\\AppData\\Local\\Programs\\Python\\Python311\\Lib\\site-packages\\selenium\\webdriver\\remote\\webdriver.py:404\u001b[0m, in \u001b[0;36mWebDriver.execute_script\u001b[1;34m(self, script, *args)\u001b[0m\n\u001b[0;32m    401\u001b[0m converted_args \u001b[39m=\u001b[39m \u001b[39mlist\u001b[39m(args)\n\u001b[0;32m    402\u001b[0m command \u001b[39m=\u001b[39m Command\u001b[39m.\u001b[39mW3C_EXECUTE_SCRIPT\n\u001b[1;32m--> 404\u001b[0m \u001b[39mreturn\u001b[39;00m \u001b[39mself\u001b[39;49m\u001b[39m.\u001b[39;49mexecute(command, {\u001b[39m\"\u001b[39;49m\u001b[39mscript\u001b[39;49m\u001b[39m\"\u001b[39;49m: script, \u001b[39m\"\u001b[39;49m\u001b[39margs\u001b[39;49m\u001b[39m\"\u001b[39;49m: converted_args})[\u001b[39m\"\u001b[39m\u001b[39mvalue\u001b[39m\u001b[39m\"\u001b[39m]\n",
      "File \u001b[1;32mc:\\Users\\tomme\\AppData\\Local\\Programs\\Python\\Python311\\Lib\\site-packages\\selenium\\webdriver\\remote\\webdriver.py:344\u001b[0m, in \u001b[0;36mWebDriver.execute\u001b[1;34m(self, driver_command, params)\u001b[0m\n\u001b[0;32m    342\u001b[0m response \u001b[39m=\u001b[39m \u001b[39mself\u001b[39m\u001b[39m.\u001b[39mcommand_executor\u001b[39m.\u001b[39mexecute(driver_command, params)\n\u001b[0;32m    343\u001b[0m \u001b[39mif\u001b[39;00m response:\n\u001b[1;32m--> 344\u001b[0m     \u001b[39mself\u001b[39;49m\u001b[39m.\u001b[39;49merror_handler\u001b[39m.\u001b[39;49mcheck_response(response)\n\u001b[0;32m    345\u001b[0m     response[\u001b[39m\"\u001b[39m\u001b[39mvalue\u001b[39m\u001b[39m\"\u001b[39m] \u001b[39m=\u001b[39m \u001b[39mself\u001b[39m\u001b[39m.\u001b[39m_unwrap_value(response\u001b[39m.\u001b[39mget(\u001b[39m\"\u001b[39m\u001b[39mvalue\u001b[39m\u001b[39m\"\u001b[39m, \u001b[39mNone\u001b[39;00m))\n\u001b[0;32m    346\u001b[0m     \u001b[39mreturn\u001b[39;00m response\n",
      "File \u001b[1;32mc:\\Users\\tomme\\AppData\\Local\\Programs\\Python\\Python311\\Lib\\site-packages\\selenium\\webdriver\\remote\\errorhandler.py:229\u001b[0m, in \u001b[0;36mErrorHandler.check_response\u001b[1;34m(self, response)\u001b[0m\n\u001b[0;32m    227\u001b[0m         alert_text \u001b[39m=\u001b[39m value[\u001b[39m\"\u001b[39m\u001b[39malert\u001b[39m\u001b[39m\"\u001b[39m]\u001b[39m.\u001b[39mget(\u001b[39m\"\u001b[39m\u001b[39mtext\u001b[39m\u001b[39m\"\u001b[39m)\n\u001b[0;32m    228\u001b[0m     \u001b[39mraise\u001b[39;00m exception_class(message, screen, stacktrace, alert_text)  \u001b[39m# type: ignore[call-arg]  # mypy is not smart enough here\u001b[39;00m\n\u001b[1;32m--> 229\u001b[0m \u001b[39mraise\u001b[39;00m exception_class(message, screen, stacktrace)\n",
      "\u001b[1;31mNoSuchWindowException\u001b[0m: Message: no such window: target window already closed\nfrom unknown error: web view not found\n  (Session info: chrome=116.0.5845.188)\nStacktrace:\n\tGetHandleVerifier [0x00007FF6BB7D52A2+57122]\n\t(No symbol) [0x00007FF6BB74EA92]\n\t(No symbol) [0x00007FF6BB61E3AB]\n\t(No symbol) [0x00007FF6BB5FE1B9]\n\t(No symbol) [0x00007FF6BB67B417]\n\t(No symbol) [0x00007FF6BB68E24F]\n\t(No symbol) [0x00007FF6BB676DB3]\n\t(No symbol) [0x00007FF6BB64D2B1]\n\t(No symbol) [0x00007FF6BB64E494]\n\tGetHandleVerifier [0x00007FF6BBA7EF82+2849794]\n\tGetHandleVerifier [0x00007FF6BBAD1D24+3189156]\n\tGetHandleVerifier [0x00007FF6BBACACAF+3160367]\n\tGetHandleVerifier [0x00007FF6BB866D06+653702]\n\t(No symbol) [0x00007FF6BB75A208]\n\t(No symbol) [0x00007FF6BB7562C4]\n\t(No symbol) [0x00007FF6BB7563F6]\n\t(No symbol) [0x00007FF6BB7467A3]\n\tBaseThreadInitThunk [0x00007FFA6141257D+29]\n\tRtlUserThreadStart [0x00007FFA6216AA68+40]\n"
     ]
    }
   ],
   "source": [
    "# List of keywords\n",
    "keywords = [\n",
    "    \"nhân lực số\"\n",
    "]\n",
    "import urllib.parse\n",
    "\n",
    "searchbase = \"https://thanhnien.vn/tim-kiem.htm?keywords=\"\n",
    "# Printing the list of Python keywords\n",
    "encoded_keywords=[]\n",
    "for text in keywords:\n",
    "    encoded_string = urllib.parse.quote(text)\n",
    "    many_crawler(keyword=text, searchbase=searchbase,timecounter=5)\n",
    "    time.sleep(3)"
   ]
  },
  {
   "cell_type": "code",
   "execution_count": null,
   "metadata": {},
   "outputs": [],
   "source": []
  }
 ],
 "metadata": {
  "kernelspec": {
   "display_name": "Python 3",
   "language": "python",
   "name": "python3"
  },
  "language_info": {
   "codemirror_mode": {
    "name": "ipython",
    "version": 3
   },
   "file_extension": ".py",
   "mimetype": "text/x-python",
   "name": "python",
   "nbconvert_exporter": "python",
   "pygments_lexer": "ipython3",
   "version": "3.11.4"
  },
  "orig_nbformat": 4
 },
 "nbformat": 4,
 "nbformat_minor": 2
}
