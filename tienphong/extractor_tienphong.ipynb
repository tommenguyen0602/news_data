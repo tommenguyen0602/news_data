{
 "cells": [
  {
   "cell_type": "code",
   "execution_count": 5,
   "metadata": {},
   "outputs": [],
   "source": [
    "import pandas as pd\n",
    "from bs4 import BeautifulSoup\n",
    "import requests\n",
    "import re\n",
    "import csv\n",
    "from dateutil import parser\n",
    "from datetime import datetime\n",
    "pd.set_option(\"display.max_colwidth\", None)"
   ]
  },
  {
   "cell_type": "code",
   "execution_count": 6,
   "metadata": {},
   "outputs": [
    {
     "name": "stdout",
     "output_type": "stream",
     "text": [
      "2023-09-17\n"
     ]
    }
   ],
   "source": [
    "def date_extractor (date_time_str):\n",
    "  date_pattern = re.compile(r'(\\d{2})/(\\d{2})/(\\d{4})')\n",
    "  match = date_pattern.search(date_time_str)\n",
    "\n",
    "  if match:\n",
    "      day = match.group(1)\n",
    "      month = match.group(2)\n",
    "      year = match.group(3)\n",
    "\n",
    "      # Parse the time part\n",
    "      time_part = date_time_str.split('|')[1].strip()\n",
    "      hour, minute = map(int, time_part.split(':'))\n",
    "\n",
    "      # Create a datetime object\n",
    "      parsed_datetime = datetime(int(year), int(month), int(day), hour, minute)\n",
    "      return(parsed_datetime.date())\n",
    "print(date_extractor(\"17/09/2023 | 07:22\"))\n"
   ]
  },
  {
   "cell_type": "code",
   "execution_count": 7,
   "metadata": {},
   "outputs": [],
   "source": [
    "def crawl_by_keyword(keyword):\n",
    "    df=pd.read_csv('tienphong_'+keyword+'.csv')\n",
    "    keyword_lookup = keyword\n",
    "    csv_file = open('tienphong_'+keyword+'_extracted.csv', 'w', newline='',encoding='utf-8')\n",
    "    writer = csv.writer(csv_file)\n",
    "    writer.writerow(['Title', 'URL','Publish Date', 'Mentioned Times','Word Count'])\n",
    "\n",
    "    for index, row in df.iloc[0:].iterrows():\n",
    "        title = row['Title']\n",
    "        url = row['URL']\n",
    "        news_url = url\n",
    "        response = requests.get(news_url)\n",
    "        if response.status_code == 403:\n",
    "            break\n",
    "        write_flag = True\n",
    "\n",
    "        soup=BeautifulSoup(response.content,'html.parser')\n",
    "        try: \n",
    "            publish_date = soup.find('time', attrs={'datetime': True}).get_text()\n",
    "            cleaned_publish_date = date_extractor(publish_date)\n",
    "        except AttributeError:\n",
    "            print('Could not get date of publication of: \\n' + str(news_url))\n",
    "            write_flag =False\n",
    "\n",
    "        try:\n",
    "            news_content = soup.find('div',class_='col-27 article-content').get_text()\n",
    "            nofm = news_content.lower().count(keyword_lookup.lower())\n",
    "            nofw = len(news_content.lower().split())\n",
    "        except  AttributeError:\n",
    "            print('Cant target news content of: \\n' + str(news_url))\n",
    "            try:\n",
    "                \n",
    "                news_content = soup.find('article',class_='col article').get_text()\n",
    "                nofm = news_content.lower().count(keyword_lookup.lower())\n",
    "                nofw = len(news_content.lower().split())\n",
    "                print('Target article instead successfully \\n')\n",
    "            except:\n",
    "                print('Cant target news content article of: \\n' + str(news_url) + '\\n')\n",
    "                write_flag = False\n",
    "\n",
    "        try:\n",
    "            # Extract the date component\n",
    "            date_only = cleaned_publish_date\n",
    "        except ValueError:\n",
    "            print(\"Invalid time format. of: \\n\" + str(news_url))\n",
    "        if write_flag == True:\n",
    "            writer.writerow([title, url,date_only,nofm,nofw])\n",
    "    csv_file.close()"
   ]
  },
  {
   "cell_type": "code",
   "execution_count": 8,
   "metadata": {},
   "outputs": [
    {
     "name": "stdout",
     "output_type": "stream",
     "text": [
      "Could not get date of publication of: \n",
      "https://tienphong.vn/tp-bank-tag223392.tpo\n",
      "Cant target news content of: \n",
      "https://tienphong.vn/tp-bank-tag223392.tpo\n",
      "Cant target news content article of: \n",
      "https://tienphong.vn/tp-bank-tag223392.tpo\n",
      "\n",
      "Could not get date of publication of: \n",
      "https://tienphong.vn/da-nang-tag59990.tpo\n",
      "Cant target news content of: \n",
      "https://tienphong.vn/da-nang-tag59990.tpo\n",
      "Cant target news content article of: \n",
      "https://tienphong.vn/da-nang-tag59990.tpo\n",
      "\n",
      "Could not get date of publication of: \n",
      "https://tienphong.vn/tag/th%E1%BA%A3o+lu%E1%BA%ADn+chuy%C3%AAn+%C4%91%E1%BB%81.tpo\n",
      "Cant target news content of: \n",
      "https://tienphong.vn/tag/th%E1%BA%A3o+lu%E1%BA%ADn+chuy%C3%AAn+%C4%91%E1%BB%81.tpo\n",
      "Cant target news content article of: \n",
      "https://tienphong.vn/tag/th%E1%BA%A3o+lu%E1%BA%ADn+chuy%C3%AAn+%C4%91%E1%BB%81.tpo\n",
      "\n",
      "Could not get date of publication of: \n",
      "https://tienphong.vn/tag/h%E1%BB%99i+ngh%E1%BB%8B+l%E1%BA%A7n+th%E1%BB%A9+9.tpo\n",
      "Cant target news content of: \n",
      "https://tienphong.vn/tag/h%E1%BB%99i+ngh%E1%BB%8B+l%E1%BA%A7n+th%E1%BB%A9+9.tpo\n",
      "Cant target news content article of: \n",
      "https://tienphong.vn/tag/h%E1%BB%99i+ngh%E1%BB%8B+l%E1%BA%A7n+th%E1%BB%A9+9.tpo\n",
      "\n",
      "Could not get date of publication of: \n",
      "https://tienphong.vn/tag/h%E1%BB%99i+ngh%E1%BB%8B+b%E1%BB%99+tr%C6%B0%E1%BB%9Fng+th%C3%B4ng+tin+asean.tpo\n",
      "Cant target news content of: \n",
      "https://tienphong.vn/tag/h%E1%BB%99i+ngh%E1%BB%8B+b%E1%BB%99+tr%C6%B0%E1%BB%9Fng+th%C3%B4ng+tin+asean.tpo\n",
      "Cant target news content article of: \n",
      "https://tienphong.vn/tag/h%E1%BB%99i+ngh%E1%BB%8B+b%E1%BB%99+tr%C6%B0%E1%BB%9Fng+th%C3%B4ng+tin+asean.tpo\n",
      "\n",
      "Could not get date of publication of: \n",
      "https://tienphong.vn/tag/dol+english.tpo\n",
      "Cant target news content of: \n",
      "https://tienphong.vn/tag/dol+english.tpo\n",
      "Cant target news content article of: \n",
      "https://tienphong.vn/tag/dol+english.tpo\n",
      "\n"
     ]
    }
   ],
   "source": [
    "keywords = [\"trí tuệ nhân tạo\"]\n",
    "for text in keywords:\n",
    "    crawl_by_keyword(text)"
   ]
  }
 ],
 "metadata": {
  "kernelspec": {
   "display_name": "Python 3",
   "language": "python",
   "name": "python3"
  },
  "language_info": {
   "codemirror_mode": {
    "name": "ipython",
    "version": 3
   },
   "file_extension": ".py",
   "mimetype": "text/x-python",
   "name": "python",
   "nbconvert_exporter": "python",
   "pygments_lexer": "ipython3",
   "version": "3.11.4"
  },
  "orig_nbformat": 4
 },
 "nbformat": 4,
 "nbformat_minor": 2
}
