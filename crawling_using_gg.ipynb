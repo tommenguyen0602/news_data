{
  "cells": [
    {
      "cell_type": "code",
      "execution_count": 37,
      "metadata": {
        "id": "qzm3C0DAAyzQ"
      },
      "outputs": [],
      "source": [
        "import requests\n",
        "import json\n",
        "import csv\n",
        "from dateutil import parser"
      ]
    },
    {
      "cell_type": "code",
      "execution_count": 38,
      "metadata": {
        "id": "g6L-nVFPA2WB"
      },
      "outputs": [],
      "source": [
        "url = \"https://google.serper.dev/search\"\n",
        "\n",
        "payload = json.dumps({\n",
        "  \"q\": \"site:tienphong.vn after:2019 before:2022 \\\"trí tuệ nhân tạo\\\"\",\n",
        "  \"gl\": \"vn\",\n",
        "  \"hl\": \"en\",\n",
        "  \"page\" : 3,\n",
        "  \"num\": 100\n",
        "})\n",
        "headers = {\n",
        "  'X-API-KEY': '962da55dd550dd0aee6d58945a990f3d13220c63',\n",
        "  'Content-Type': 'application/json'\n",
        "}\n",
        "\n",
        "response = requests.request(\"POST\", url, headers=headers, data=payload)\n",
        "\n"
      ]
    },
    {
      "cell_type": "code",
      "execution_count": 39,
      "metadata": {
        "colab": {
          "base_uri": "https://localhost:8080/"
        },
        "id": "FJNqa6gEGwAt",
        "outputId": "417f2917-3e53-4180-d653-288ff4679c3a"
      },
      "outputs": [
        {
          "name": "stdout",
          "output_type": "stream",
          "text": [
            "{\"searchParameters\":{\"q\":\"site:tienphong.vn after:2019 before:2022 \\\"trí tuệ nhân tạo\\\"\",\"gl\":\"vn\",\"hl\":\"en\",\"num\":100,\"page\":4,\"type\":\"search\",\"engine\":\"google\"},\"organic\":[{\"title\":\"Mẹo kích hoạt tính năng kính lúp trên iPhone - Tiền Phong\",\"link\":\"https://tienphong.vn/meo-kich-hoat-tinh-nang-kinh-lup-tren-iphone-post1287167.tpo\",\"snippet\":\"Bộ trưởng TT&TT Nguyễn Mạnh Hùng: Trí tuệ nhân tạo đã sẵn sàng tạo ra tri thức · Khoa học · Vụ va chạm nguy hiểm suýt xảy ra trên quỹ đạo Trái Đất · Khoa học ...\",\"date\":\"Nov 3, 2020\",\"position\":1},{\"title\":\"Báo hoa mai tặng 'nụ hôn thần chết' cho linh dương ngay trên không trung\",\"link\":\"https://tienphong.vn/bao-hoa-mai-tang-nu-hon-than-chet-cho-linh-duong-ngay-tren-khong-trung-post1303181.tpo\",\"snippet\":\"Mặc dù chú linh dương Impala đã rất nhanh chuyển hướng bỏ chạy, nhưng con báo hoa mai lại nhanh hơn khi phi người lên không trung rồi tung ra một cú cắn chí ...\",\"date\":\"Mar 24, 2021\",\"position\":2},{\"title\":\"Bị bao vây bởi hàng trăm con cá mập, nữ thợ lặn vẫn không hề sợ hãi - Tiền Phong\",\"link\":\"https://tienphong.vn/bi-bao-vay-boi-hang-tram-con-ca-map-nu-tho-lan-van-khong-he-so-hai-post1290363.tpo\",\"snippet\":\"TPO - Nữ thợ lặn trong đoạn clip sau đây đã phải đối mặt với hàng trăm con cá mập. Tuy nhiên, thay vì sợ hãi cô lại cảm thấy phấn khích vì hiện tượng hiếm ...\",\"date\":\"Nov 19, 2020\",\"position\":3}]}\n"
          ]
        }
      ],
      "source": [
        "print(response.text)"
      ]
    },
    {
      "cell_type": "code",
      "execution_count": 40,
      "metadata": {
        "colab": {
          "base_uri": "https://localhost:8080/"
        },
        "id": "pB15ZBahBfeM",
        "outputId": "71ade69b-6558-44e9-d743-683b9a38abfa"
      },
      "outputs": [],
      "source": [
        "data = json.loads(response.text)\n",
        "with open(\"tienphong_trí tuệ nhân tạo2.csv\",'w', encoding='utf-8',newline='') as outputfile:\n",
        "  csv_writer = csv.writer(outputfile)\n",
        "  for news_item in data['organic']:\n",
        "      title = news_item['title']\n",
        "      url = news_item['link']\n",
        "      csv_writer.writerow([title, url])"
      ]
    },
    {
      "cell_type": "code",
      "execution_count": 41,
      "metadata": {
        "colab": {
          "base_uri": "https://localhost:8080/"
        },
        "id": "o3Q0-nmpGjLz",
        "outputId": "0ba06da8-9212-444c-8c39-b9722dfd1be6"
      },
      "outputs": [
        {
          "name": "stdout",
          "output_type": "stream",
          "text": [
            "3\n"
          ]
        }
      ],
      "source": [
        "print(len(data['organic']))"
      ]
    },
    {
      "cell_type": "markdown",
      "metadata": {
        "id": "UT_sv7a2BBB8"
      },
      "source": []
    }
  ],
  "metadata": {
    "colab": {
      "provenance": []
    },
    "kernelspec": {
      "display_name": "Python 3",
      "name": "python3"
    },
    "language_info": {
      "codemirror_mode": {
        "name": "ipython",
        "version": 3
      },
      "file_extension": ".py",
      "mimetype": "text/x-python",
      "name": "python",
      "nbconvert_exporter": "python",
      "pygments_lexer": "ipython3",
      "version": "3.11.4"
    }
  },
  "nbformat": 4,
  "nbformat_minor": 0
}
